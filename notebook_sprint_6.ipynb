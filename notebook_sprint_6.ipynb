{
 "cells": [
  {
   "cell_type": "markdown",
   "id": "9cba7201",
   "metadata": {},
   "source": [
    "Inicialización"
   ]
  },
  {
   "cell_type": "code",
   "execution_count": 169,
   "id": "3779e065",
   "metadata": {},
   "outputs": [],
   "source": [
    "# Cargar todas las librerías\n",
    "from scipy import stats as st\n",
    "import pandas as pd\n",
    "import re\n",
    "import matplotlib.pyplot as plt\n",
    "import seaborn as sns\n",
    "import numpy as np\n",
    "pd.set_option(\"display.max_columns\", None)  \n",
    "pd.set_option(\"display.max_rows\", None)   "
   ]
  },
  {
   "cell_type": "markdown",
   "id": "b48a8014",
   "metadata": {},
   "source": [
    "1. Abrir el archivo de datos y estudiar la información general"
   ]
  },
  {
   "cell_type": "code",
   "execution_count": 170,
   "id": "09b5ffa1",
   "metadata": {},
   "outputs": [
    {
     "name": "stdout",
     "output_type": "stream",
     "text": [
      "Index(['Name', 'Platform', 'Year_of_Release', 'Genre', 'NA_sales', 'EU_sales',\n",
      "       'JP_sales', 'Other_sales', 'Critic_Score', 'User_Score', 'Rating'],\n",
      "      dtype='object')\n",
      "<class 'pandas.core.frame.DataFrame'>\n",
      "RangeIndex: 16715 entries, 0 to 16714\n",
      "Data columns (total 11 columns):\n",
      " #   Column           Non-Null Count  Dtype  \n",
      "---  ------           --------------  -----  \n",
      " 0   Name             16713 non-null  object \n",
      " 1   Platform         16715 non-null  object \n",
      " 2   Year_of_Release  16446 non-null  float64\n",
      " 3   Genre            16713 non-null  object \n",
      " 4   NA_sales         16715 non-null  float64\n",
      " 5   EU_sales         16715 non-null  float64\n",
      " 6   JP_sales         16715 non-null  float64\n",
      " 7   Other_sales      16715 non-null  float64\n",
      " 8   Critic_Score     8137 non-null   float64\n",
      " 9   User_Score       10014 non-null  object \n",
      " 10  Rating           9949 non-null   object \n",
      "dtypes: float64(6), object(5)\n",
      "memory usage: 1.4+ MB\n"
     ]
    }
   ],
   "source": [
    "ice = pd.read_csv(r\"C:\\Users\\jonat\\Desktop\\DATA_SCIENTIST\\SPRINT_6\\games.csv\")\n",
    "print(ice.columns)\n",
    "ice.info()"
   ]
  },
  {
   "cell_type": "markdown",
   "id": "975e8777",
   "metadata": {},
   "source": [
    "Puedo observar que hay demasiados valores faltantes, y usando .nuique(), en cada columna ej: print(ice['Name'].nunique()), sabemos que tenemos 11559 valores unicos de 16713 entradas de 16715 registros e sdecir debemos homologar todas las columnas para evitar datos repetidos y asi homologar todos los datos"
   ]
  },
  {
   "cell_type": "markdown",
   "id": "509626f7",
   "metadata": {},
   "source": [
    "2. Preparar los datos"
   ]
  },
  {
   "cell_type": "markdown",
   "id": "32e0a849",
   "metadata": {},
   "source": [
    "2.1 Reemplazar los nombres de las columnas (minusculas) y homologar nombres de la columna name\n",
    "\n",
    "Uso re en este caso sub, para poder homologra todos los nombres de la columna name , es decir conservo solamente los caracteres que sean letras y numeros para poder realizar un concatenado y asi poder determinar los valores unicos y quito los espacios para ejecutar de correcta forma el concatenado, mas adelante sera mas facil poder espaciar los nombres y se puede reinvertir el concatenado con re.findall"
   ]
  },
  {
   "cell_type": "code",
   "execution_count": 171,
   "id": "4bb3f481",
   "metadata": {},
   "outputs": [
    {
     "name": "stdout",
     "output_type": "stream",
     "text": [
      "Index(['name', 'platform', 'year_of_release', 'genre', 'na_sales', 'eu_sales',\n",
      "       'jp_sales', 'other_sales', 'critic_score', 'user_score', 'rating'],\n",
      "      dtype='object')\n"
     ]
    }
   ],
   "source": [
    "ice.columns = ice.columns.str.lower()\n",
    "print(ice.columns)    "
   ]
  },
  {
   "cell_type": "code",
   "execution_count": 182,
   "id": "3a2cb3c4",
   "metadata": {},
   "outputs": [],
   "source": [
    "def normalizar_nombre(nombre):\n",
    "    if nombre is None or pd.isna(nombre): \n",
    "        return \"\"\n",
    "    nombre = nombre.lower()\n",
    "    nombre = re.sub(r'[^a-z0-9]', '', nombre)\n",
    "    return nombre\n",
    "\n",
    "ice['name'] = ice['name'].apply(normalizar_nombre)"
   ]
  },
  {
   "cell_type": "markdown",
   "id": "e7f551c7",
   "metadata": {},
   "source": [
    "2.2 Convertir los datos en tipos necesarios"
   ]
  },
  {
   "cell_type": "code",
   "execution_count": 173,
   "id": "a120a6c1",
   "metadata": {},
   "outputs": [],
   "source": [
    "ice['year_of_release'] = ice['year_of_release'].fillna(0)\n",
    "ice['year_of_release'] = ice['year_of_release'].astype(int)\n",
    "ice['critic_score'] = ice['critic_score'].fillna(0)\n",
    "ice['critic_score'] = ice['critic_score'].astype(int)\n",
    "ice['user_score'] = ice['user_score'].fillna(0)"
   ]
  },
  {
   "cell_type": "code",
   "execution_count": 174,
   "id": "9fefbe45",
   "metadata": {},
   "outputs": [
    {
     "name": "stdout",
     "output_type": "stream",
     "text": [
      "<class 'pandas.core.frame.DataFrame'>\n",
      "RangeIndex: 16715 entries, 0 to 16714\n",
      "Data columns (total 11 columns):\n",
      " #   Column           Non-Null Count  Dtype  \n",
      "---  ------           --------------  -----  \n",
      " 0   name             16715 non-null  object \n",
      " 1   platform         16715 non-null  object \n",
      " 2   year_of_release  16715 non-null  int64  \n",
      " 3   genre            16713 non-null  object \n",
      " 4   na_sales         16715 non-null  float64\n",
      " 5   eu_sales         16715 non-null  float64\n",
      " 6   jp_sales         16715 non-null  float64\n",
      " 7   other_sales      16715 non-null  float64\n",
      " 8   critic_score     16715 non-null  int64  \n",
      " 9   user_score       16715 non-null  object \n",
      " 10  rating           9949 non-null   object \n",
      "dtypes: float64(4), int64(2), object(5)\n",
      "memory usage: 1.4+ MB\n"
     ]
    }
   ],
   "source": [
    "ice.info()"
   ]
  },
  {
   "cell_type": "markdown",
   "id": "e59d1d35",
   "metadata": {},
   "source": [
    "2.3 Describo las columnas en las que los tipos de datos han sido cambiados y explico por qué.\n",
    "\n",
    "-year_of_release, de tipo flotante a tipo entero ya que los años todos demostraban numeros enteros y es mas practico y facil ahcer comparaciones y segmanetar datos de esta manera.\n",
    "\n",
    "-critic_score, de tipo flotante a tipo entero ya que al ser una rango de 0 - 100 es posible el poder hacer comparaciones y segmentar logiucamente con ese rango de valores\n",
    "\n",
    "-en la paret de completar datos con fillna(0), par apoder determianr los valores ausentes con numeros ceros y asi poder realñizar las converisones de tipos de datos, sin embargo para user_score aun dejamos el tipo de datos object por que existe una categoria tbd\n",
    "\n"
   ]
  },
  {
   "cell_type": "markdown",
   "id": "4781e00e",
   "metadata": {},
   "source": [
    "2.4 Manera de tratar valores ausentes"
   ]
  },
  {
   "cell_type": "code",
   "execution_count": 175,
   "id": "51b95491",
   "metadata": {},
   "outputs": [
    {
     "name": "stdout",
     "output_type": "stream",
     "text": [
      "0\n",
      "Empty DataFrame\n",
      "Columns: [name, platform, year_of_release, genre, na_sales, eu_sales, jp_sales, other_sales, critic_score, user_score, rating]\n",
      "Index: []\n",
      "0\n",
      "2\n",
      "      name platform  year_of_release genre  na_sales  eu_sales  jp_sales  \\\n",
      "659             GEN             1993   NaN      1.78      0.53      0.00   \n",
      "14244           GEN             1993   NaN      0.00      0.00      0.03   \n",
      "\n",
      "       other_sales  critic_score user_score rating  \n",
      "659           0.08             0          0    NaN  \n",
      "14244         0.00             0          0    NaN  \n",
      "0\n",
      "<class 'pandas.core.frame.DataFrame'>\n",
      "Index: 16713 entries, 0 to 16714\n",
      "Data columns (total 11 columns):\n",
      " #   Column           Non-Null Count  Dtype  \n",
      "---  ------           --------------  -----  \n",
      " 0   name             16713 non-null  object \n",
      " 1   platform         16713 non-null  object \n",
      " 2   year_of_release  16713 non-null  int64  \n",
      " 3   genre            16713 non-null  object \n",
      " 4   na_sales         16713 non-null  float64\n",
      " 5   eu_sales         16713 non-null  float64\n",
      " 6   jp_sales         16713 non-null  float64\n",
      " 7   other_sales      16713 non-null  float64\n",
      " 8   critic_score     16713 non-null  int64  \n",
      " 9   user_score       16713 non-null  object \n",
      " 10  rating           9949 non-null   object \n",
      "dtypes: float64(4), int64(2), object(5)\n",
      "memory usage: 1.5+ MB\n"
     ]
    }
   ],
   "source": [
    "print(ice['name'].isna().sum())\n",
    "print(ice[ice['name'].isna()])\n",
    "ice = ice.dropna(subset=['name'])\n",
    "print(ice['name'].isna().sum())\n",
    "print(ice['genre'].isna().sum())\n",
    "print(ice[ice['genre'].isna()])\n",
    "ice = ice.dropna(subset=['genre'])\n",
    "print(ice['genre'].isna().sum())\n",
    "ice.info()"
   ]
  },
  {
   "cell_type": "markdown",
   "id": "c8dbeb6f",
   "metadata": {},
   "source": [
    "2.4.1 Explicación de rellenmo de valores ausentes y que realice con ellos\n",
    "\n",
    "Decidi eliminar las filas completas que en la columna name estuvieran vacias ya que no pude buscar una relacion directa con datos similares para poder definir a esas dos entradas un nombre de un regitro ya asignado por lo que para un analisis mas exacto es mejor eliminarlas y no seguir trabajando con ellas, tampoco son mucha spero mejor me ahorro porblemas continuando manejando esas dos filas con valores nulos en name"
   ]
  },
  {
   "cell_type": "code",
   "execution_count": 183,
   "id": "f4a09170",
   "metadata": {},
   "outputs": [
    {
     "name": "stdout",
     "output_type": "stream",
     "text": [
      "269, 4507, 5869, 10513, 6600, 8576, 9136\n",
      "11524, 31, 38, 12, 402, 307, 244, 155, 83, 10, 9\n"
     ]
    }
   ],
   "source": [
    "#Hago el conteo de los valores iguales a cero en estas columnas ya que son numericas\n",
    "#Esto demuestra los valores ausentes\n",
    "print((ice['year_of_release'] == 0).sum(),\n",
    "    (ice['na_sales'] == 0).sum(),\n",
    "    (ice['eu_sales'] == 0).sum(),\n",
    "    (ice['jp_sales'] == 0).sum(),\n",
    "    (ice['other_sales'] == 0).sum(),\n",
    "    (ice['critic_score'] == 0).sum(),\n",
    "    (ice['user_score'] == 0).sum(),\n",
    "    sep=\", \")\n",
    "#Ahora los valores unicos\n",
    "print(ice['name'].nunique(),\n",
    "    ice['platform'].nunique(),\n",
    "    ice['year_of_release'].nunique(),\n",
    "    ice['genre'].nunique(),\n",
    "    ice['na_sales'].nunique(),\n",
    "    ice['eu_sales'].nunique(),\n",
    "    ice['jp_sales'].nunique(),\n",
    "    ice['other_sales'].nunique(),\n",
    "    ice['critic_score'].nunique(),\n",
    "    ice['user_score'].nunique(),\n",
    "    ice['rating'].nunique(),\n",
    "    sep=\", \"\n",
    ")"
   ]
  },
  {
   "cell_type": "markdown",
   "id": "5f97a4df",
   "metadata": {},
   "source": [
    "2.4.2 ¿Por que creo que los valores están asuentes?\n",
    "\n",
    "Rellene los valores ausentes con 0 para las columnas de tipo de valores entero y tipo flotante, igual ya verifique cuantos valores por columna son unicos, lo que puede significar que tenemos 11559 nombres unicos de videojuegos, (sin embargo creo que puede haber repetidos, es decir con espacios, mayusculas , puntos, etc, por lo que mas adelante sera mejor agruparlos por valores unicos y sumarlos para unicamente tener valores unicos), lo mismo con los 31 valores unicos de plataforma, ahora en años de lanzamiento , 38 años unicos, y hay 269 valores sin registro de lanzamiento, en ventas hay demasiados valores ausentes lo que puede signifiacr que no hay ventas y esos sondatos importantes pero faciles de interpretar como ventas en cero, en critic score, y  user score lo tranforme a entero sin embargo lo mejor seria etablecer ambos en un rango de 0 a 100 o en un rango de 0 a 10 ya que en user score la mantuve en object ya que exite el dato tbd, y creo que lo optimo para manejar este valor seria manejarlo con NaN, es decir valor ausnete ay que aun no tenemos valores y si le asigmanos un valor cercano a la emdia o incluso la media puede afectar a relaciones estadisticas, por ello lo mejor a mi parecer es manejarlo con NaN"
   ]
  },
  {
   "cell_type": "markdown",
   "id": "4eb5062f",
   "metadata": {},
   "source": [
    "2.4.3 Prestar atención a la abreviatura TBD, to be determined (Especifica como piensas manejar estos casos)\n",
    "\n",
    "Lo voy a menjar como valores vacios es decir los voy a transformar a cero ya que son valores ausentes por que aun no estan definidos y puede ser por que aun no hay demasiadas reseñas , por lo que cambiare a cero y convertire a int esa categoria"
   ]
  },
  {
   "cell_type": "code",
   "execution_count": 177,
   "id": "0d957344",
   "metadata": {},
   "outputs": [
    {
     "name": "stdout",
     "output_type": "stream",
     "text": [
      "<class 'pandas.core.frame.DataFrame'>\n",
      "Index: 16713 entries, 0 to 16714\n",
      "Data columns (total 11 columns):\n",
      " #   Column           Non-Null Count  Dtype  \n",
      "---  ------           --------------  -----  \n",
      " 0   name             16713 non-null  object \n",
      " 1   platform         16713 non-null  object \n",
      " 2   year_of_release  16713 non-null  int64  \n",
      " 3   genre            16713 non-null  object \n",
      " 4   na_sales         16713 non-null  float64\n",
      " 5   eu_sales         16713 non-null  float64\n",
      " 6   jp_sales         16713 non-null  float64\n",
      " 7   other_sales      16713 non-null  float64\n",
      " 8   critic_score     16713 non-null  int64  \n",
      " 9   user_score       16713 non-null  int64  \n",
      " 10  rating           9949 non-null   object \n",
      "dtypes: float64(4), int64(3), object(4)\n",
      "memory usage: 1.5+ MB\n"
     ]
    }
   ],
   "source": [
    "ice['user_score'] = ice['user_score'].replace('tbd', 0).astype(float)\n",
    "ice['user_score'] = ice['user_score'].astype(int)\n",
    "ice.info()"
   ]
  },
  {
   "cell_type": "markdown",
   "id": "429a338d",
   "metadata": {},
   "source": [
    "2.4.4 Examinar los datos de la columna rating y poder determianr como los manejamos para poder terminar de corregir los datos y sobre todo el dataframe para poder tener las 16713 lineas completas es decir sin datos faltantes, determinamos los valores NaN de la columna Rating con U, lo que signifa Unknown, es decir sin conocimiento de los valores, ya que no represnta una clasificaion:E = Everyone (para todos); T = Teen (adolescentes); M = Mature (adultos); AO = Adults Only; EC = Early Childhood"
   ]
  },
  {
   "cell_type": "code",
   "execution_count": 178,
   "id": "cd233566",
   "metadata": {},
   "outputs": [],
   "source": [
    "# Reemplazar NaN en la columna 'rating' con la letra 'U'\n",
    "ice['rating'] = ice['rating'].fillna('U')"
   ]
  },
  {
   "cell_type": "markdown",
   "id": "c1fe757b",
   "metadata": {},
   "source": [
    "Esto significa que ya tenemos todo el dataframe con valores manejable y listos para comenzar analisis mas profundos"
   ]
  },
  {
   "cell_type": "code",
   "execution_count": 179,
   "id": "1a4a44a7",
   "metadata": {},
   "outputs": [
    {
     "name": "stdout",
     "output_type": "stream",
     "text": [
      "<class 'pandas.core.frame.DataFrame'>\n",
      "Index: 16713 entries, 0 to 16714\n",
      "Data columns (total 11 columns):\n",
      " #   Column           Non-Null Count  Dtype  \n",
      "---  ------           --------------  -----  \n",
      " 0   name             16713 non-null  object \n",
      " 1   platform         16713 non-null  object \n",
      " 2   year_of_release  16713 non-null  int64  \n",
      " 3   genre            16713 non-null  object \n",
      " 4   na_sales         16713 non-null  float64\n",
      " 5   eu_sales         16713 non-null  float64\n",
      " 6   jp_sales         16713 non-null  float64\n",
      " 7   other_sales      16713 non-null  float64\n",
      " 8   critic_score     16713 non-null  int64  \n",
      " 9   user_score       16713 non-null  int64  \n",
      " 10  rating           16713 non-null  object \n",
      "dtypes: float64(4), int64(3), object(4)\n",
      "memory usage: 1.5+ MB\n"
     ]
    }
   ],
   "source": [
    "ice.info()"
   ]
  },
  {
   "cell_type": "markdown",
   "id": "8a209019",
   "metadata": {},
   "source": [
    "2.5 Calcular las ventas totales ( la suma de las ventas en todas las regiones) para cada juego y coloca estos valores en una columna separada"
   ]
  },
  {
   "cell_type": "code",
   "execution_count": 184,
   "id": "c3a9cc64",
   "metadata": {},
   "outputs": [
    {
     "name": "stdout",
     "output_type": "stream",
     "text": [
      "                    name  na_sales  eu_sales  jp_sales  other_sales  \\\n",
      "0              wiisports     41.36     28.96      3.77         8.45   \n",
      "1         supermariobros     29.08      3.58      6.81         0.77   \n",
      "2           mariokartwii     15.68     12.76      3.79         3.29   \n",
      "3        wiisportsresort     15.61     10.93      3.28         2.95   \n",
      "4  pokemonredpokemonblue     11.27      8.89     10.22         1.00   \n",
      "\n",
      "   ventas_totales  \n",
      "0           82.54  \n",
      "1           40.24  \n",
      "2           35.52  \n",
      "3           32.77  \n",
      "4           31.38  \n"
     ]
    }
   ],
   "source": [
    "ice['ventas_totales'] = (\n",
    "    ice['na_sales'] +\n",
    "    ice['eu_sales'] +\n",
    "    ice['jp_sales'] +\n",
    "    ice['other_sales']\n",
    ")\n",
    "print(ice[['name', 'na_sales', 'eu_sales', 'jp_sales', 'other_sales', 'ventas_totales']].head())"
   ]
  },
  {
   "cell_type": "markdown",
   "id": "ab550735",
   "metadata": {},
   "source": [
    "Ahora si pasamos al analisis de datos:\n",
    "\n",
    "3. Analiza los datos"
   ]
  },
  {
   "cell_type": "markdown",
   "id": "af58ec89",
   "metadata": {},
   "source": [
    "3.1 Mira cuántos juegos fueron lanzados en diferentes años."
   ]
  },
  {
   "cell_type": "code",
   "execution_count": null,
   "id": "171b35df",
   "metadata": {},
   "outputs": [
    {
     "data": {
      "image/png": "[encoded data removed]",
      "text/plain": [
       "<Figure size 1200x600 with 1 Axes>"
      ]
     },
     "metadata": {},
     "output_type": "display_data"
    }
   ],
   "source": [
    "lanzamientos_por_año = ice.groupby('year_of_release')['name'].count()\n",
    "plt.figure(figsize=(12,6))\n",
    "lanzamientos_por_año.plot(kind='bar')\n",
    "plt.title(\"Número de juegos lanzados por año\")\n",
    "plt.xlabel(\"Año de lanzamiento\")\n",
    "plt.ylabel(\"Cantidad de juegos\")\n",
    "plt.show()"
   ]
  },
  {
   "cell_type": "markdown",
   "id": "e99e1844",
   "metadata": {},
   "source": [
    "3.2 Observa cómo varían las ventas de una plataforma a otra. Elige las plataformas con las mayores ventas totales y construye una distribución basada en los datos de cada año. Busca las plataformas que solían ser populares pero que ahora no tienen ventas. ¿Cuánto tardan generalmente las nuevas plataformas en aparecer y las antiguas en desaparecer?\n",
    "\n",
    "3.3 Determina para qué período debes tomar datos. Para hacerlo mira tus respuestas a las preguntas anteriores. Los datos deberían permitirte construir un modelo para 2017.\n",
    "\n",
    "3.4 Trabaja solo con los datos que consideras relevantes. Ignora los datos de años anteriores.\n",
    "\n",
    "3.5 ¿Qué plataformas son líderes en ventas? ¿Cuáles crecen y cuáles se reducen? Elige varias plataformas potencialmente rentables.\n",
    "\n"
   ]
  },
  {
   "cell_type": "code",
   "execution_count": null,
   "id": "2f109b31",
   "metadata": {},
   "outputs": [
    {
     "data": {
      "text/html": [
       "<div>\n",
       "<style scoped>\n",
       "    .dataframe tbody tr th:only-of-type {\n",
       "        vertical-align: middle;\n",
       "    }\n",
       "\n",
       "    .dataframe tbody tr th {\n",
       "        vertical-align: top;\n",
       "    }\n",
       "\n",
       "    .dataframe thead th {\n",
       "        text-align: right;\n",
       "    }\n",
       "</style>\n",
       "<table border=\"1\" class=\"dataframe\">\n",
       "  <thead>\n",
       "    <tr style=\"text-align: right;\">\n",
       "      <th></th>\n",
       "      <th>ventas_totales</th>\n",
       "      <th>primer_año</th>\n",
       "      <th>ultimo_año</th>\n",
       "    </tr>\n",
       "    <tr>\n",
       "      <th>platform</th>\n",
       "      <th></th>\n",
       "      <th></th>\n",
       "      <th></th>\n",
       "    </tr>\n",
       "  </thead>\n",
       "  <tbody>\n",
       "    <tr>\n",
       "      <th>PS2</th>\n",
       "      <td>1255.77</td>\n",
       "      <td>0</td>\n",
       "      <td>2011</td>\n",
       "    </tr>\n",
       "    <tr>\n",
       "      <th>X360</th>\n",
       "      <td>971.42</td>\n",
       "      <td>0</td>\n",
       "      <td>2016</td>\n",
       "    </tr>\n",
       "    <tr>\n",
       "      <th>PS3</th>\n",
       "      <td>939.65</td>\n",
       "      <td>0</td>\n",
       "      <td>2016</td>\n",
       "    </tr>\n",
       "    <tr>\n",
       "      <th>Wii</th>\n",
       "      <td>907.51</td>\n",
       "      <td>0</td>\n",
       "      <td>2016</td>\n",
       "    </tr>\n",
       "    <tr>\n",
       "      <th>DS</th>\n",
       "      <td>806.12</td>\n",
       "      <td>0</td>\n",
       "      <td>2013</td>\n",
       "    </tr>\n",
       "    <tr>\n",
       "      <th>PS</th>\n",
       "      <td>730.86</td>\n",
       "      <td>0</td>\n",
       "      <td>2003</td>\n",
       "    </tr>\n",
       "    <tr>\n",
       "      <th>GBA</th>\n",
       "      <td>317.85</td>\n",
       "      <td>0</td>\n",
       "      <td>2007</td>\n",
       "    </tr>\n",
       "    <tr>\n",
       "      <th>PS4</th>\n",
       "      <td>314.14</td>\n",
       "      <td>2013</td>\n",
       "      <td>2016</td>\n",
       "    </tr>\n",
       "    <tr>\n",
       "      <th>PSP</th>\n",
       "      <td>294.05</td>\n",
       "      <td>0</td>\n",
       "      <td>2015</td>\n",
       "    </tr>\n",
       "    <tr>\n",
       "      <th>PC</th>\n",
       "      <td>259.52</td>\n",
       "      <td>0</td>\n",
       "      <td>2016</td>\n",
       "    </tr>\n",
       "    <tr>\n",
       "      <th>3DS</th>\n",
       "      <td>259.00</td>\n",
       "      <td>0</td>\n",
       "      <td>2016</td>\n",
       "    </tr>\n",
       "    <tr>\n",
       "      <th>XB</th>\n",
       "      <td>257.74</td>\n",
       "      <td>0</td>\n",
       "      <td>2008</td>\n",
       "    </tr>\n",
       "    <tr>\n",
       "      <th>GB</th>\n",
       "      <td>255.46</td>\n",
       "      <td>0</td>\n",
       "      <td>2001</td>\n",
       "    </tr>\n",
       "    <tr>\n",
       "      <th>NES</th>\n",
       "      <td>251.05</td>\n",
       "      <td>1983</td>\n",
       "      <td>1994</td>\n",
       "    </tr>\n",
       "    <tr>\n",
       "      <th>N64</th>\n",
       "      <td>218.68</td>\n",
       "      <td>0</td>\n",
       "      <td>2002</td>\n",
       "    </tr>\n",
       "    <tr>\n",
       "      <th>SNES</th>\n",
       "      <td>200.04</td>\n",
       "      <td>1990</td>\n",
       "      <td>1999</td>\n",
       "    </tr>\n",
       "    <tr>\n",
       "      <th>GC</th>\n",
       "      <td>198.93</td>\n",
       "      <td>0</td>\n",
       "      <td>2007</td>\n",
       "    </tr>\n",
       "    <tr>\n",
       "      <th>XOne</th>\n",
       "      <td>159.32</td>\n",
       "      <td>2013</td>\n",
       "      <td>2016</td>\n",
       "    </tr>\n",
       "    <tr>\n",
       "      <th>2600</th>\n",
       "      <td>96.98</td>\n",
       "      <td>0</td>\n",
       "      <td>1989</td>\n",
       "    </tr>\n",
       "    <tr>\n",
       "      <th>WiiU</th>\n",
       "      <td>82.19</td>\n",
       "      <td>2012</td>\n",
       "      <td>2016</td>\n",
       "    </tr>\n",
       "    <tr>\n",
       "      <th>PSV</th>\n",
       "      <td>54.07</td>\n",
       "      <td>0</td>\n",
       "      <td>2016</td>\n",
       "    </tr>\n",
       "    <tr>\n",
       "      <th>SAT</th>\n",
       "      <td>33.59</td>\n",
       "      <td>1994</td>\n",
       "      <td>1999</td>\n",
       "    </tr>\n",
       "    <tr>\n",
       "      <th>GEN</th>\n",
       "      <td>28.35</td>\n",
       "      <td>1990</td>\n",
       "      <td>1994</td>\n",
       "    </tr>\n",
       "    <tr>\n",
       "      <th>DC</th>\n",
       "      <td>15.95</td>\n",
       "      <td>1998</td>\n",
       "      <td>2008</td>\n",
       "    </tr>\n",
       "    <tr>\n",
       "      <th>SCD</th>\n",
       "      <td>1.86</td>\n",
       "      <td>1993</td>\n",
       "      <td>1994</td>\n",
       "    </tr>\n",
       "    <tr>\n",
       "      <th>NG</th>\n",
       "      <td>1.44</td>\n",
       "      <td>1993</td>\n",
       "      <td>1996</td>\n",
       "    </tr>\n",
       "    <tr>\n",
       "      <th>WS</th>\n",
       "      <td>1.42</td>\n",
       "      <td>1999</td>\n",
       "      <td>2001</td>\n",
       "    </tr>\n",
       "    <tr>\n",
       "      <th>TG16</th>\n",
       "      <td>0.16</td>\n",
       "      <td>1995</td>\n",
       "      <td>1995</td>\n",
       "    </tr>\n",
       "    <tr>\n",
       "      <th>3DO</th>\n",
       "      <td>0.10</td>\n",
       "      <td>1994</td>\n",
       "      <td>1995</td>\n",
       "    </tr>\n",
       "    <tr>\n",
       "      <th>GG</th>\n",
       "      <td>0.04</td>\n",
       "      <td>1992</td>\n",
       "      <td>1992</td>\n",
       "    </tr>\n",
       "    <tr>\n",
       "      <th>PCFX</th>\n",
       "      <td>0.03</td>\n",
       "      <td>1996</td>\n",
       "      <td>1996</td>\n",
       "    </tr>\n",
       "  </tbody>\n",
       "</table>\n",
       "</div>"
      ],
      "text/plain": [
       "          ventas_totales  primer_año  ultimo_año\n",
       "platform                                        \n",
       "PS2              1255.77           0        2011\n",
       "X360              971.42           0        2016\n",
       "PS3               939.65           0        2016\n",
       "Wii               907.51           0        2016\n",
       "DS                806.12           0        2013\n",
       "PS                730.86           0        2003\n",
       "GBA               317.85           0        2007\n",
       "PS4               314.14        2013        2016\n",
       "PSP               294.05           0        2015\n",
       "PC                259.52           0        2016\n",
       "3DS               259.00           0        2016\n",
       "XB                257.74           0        2008\n",
       "GB                255.46           0        2001\n",
       "NES               251.05        1983        1994\n",
       "N64               218.68           0        2002\n",
       "SNES              200.04        1990        1999\n",
       "GC                198.93           0        2007\n",
       "XOne              159.32        2013        2016\n",
       "2600               96.98           0        1989\n",
       "WiiU               82.19        2012        2016\n",
       "PSV                54.07           0        2016\n",
       "SAT                33.59        1994        1999\n",
       "GEN                28.35        1990        1994\n",
       "DC                 15.95        1998        2008\n",
       "SCD                 1.86        1993        1994\n",
       "NG                  1.44        1993        1996\n",
       "WS                  1.42        1999        2001\n",
       "TG16                0.16        1995        1995\n",
       "3DO                 0.10        1994        1995\n",
       "GG                  0.04        1992        1992\n",
       "PCFX                0.03        1996        1996"
      ]
     },
     "execution_count": 167,
     "metadata": {},
     "output_type": "execute_result"
    }
   ],
   "source": [
    "ventas_totales = ice.groupby('platform')['ventas_totales'].sum()\n",
    "primer_año = ice.groupby('platform')['year_of_release'].min()\n",
    "ultimo_año = ice.groupby('platform')['year_of_release'].max()\n",
    "\n",
    "resumen_plataformas = pd.DataFrame({\n",
    "    'ventas_totales': ventas_totales,\n",
    "    'primer_año': primer_año,\n",
    "    'ultimo_año': ultimo_año\n",
    "})\n",
    "\n",
    "resumen_plataformas = resumen_plataformas.sort_values(by='ventas_totales', ascending=False)\n",
    "resumen_plataformas"
   ]
  },
  {
   "cell_type": "markdown",
   "id": "89c62a28",
   "metadata": {},
   "source": [
    "Aqui podemos determinar cuales son las plataformas con mayor venta, de que año fue el primer lanzamiento así como cual fue el ultimo año de lanzamiento lo que representa , que tomaremos en cuenta es que varias plataformas tiene primer año 0 esto indica que falta informacion sobre el año de lanzamiento, las plataformas clasicas termina sus lanzamientos alrededor de los años 90 o 2000, unas plataformas recientes tienen datos desde 2012 -2013 hasta 2016, lo que representa que nuevas plataformas tardar de 1 a 3 años en alcanzar ventas y antiguas de 5 a 10 años antes de desaparecer\n",
    "\n",
    "\n"
   ]
  },
  {
   "cell_type": "code",
   "execution_count": null,
   "id": "a539a073",
   "metadata": {},
   "outputs": [
    {
     "data": {
      "text/html": [
       "<div>\n",
       "<style scoped>\n",
       "    .dataframe tbody tr th:only-of-type {\n",
       "        vertical-align: middle;\n",
       "    }\n",
       "\n",
       "    .dataframe tbody tr th {\n",
       "        vertical-align: top;\n",
       "    }\n",
       "\n",
       "    .dataframe thead th {\n",
       "        text-align: right;\n",
       "    }\n",
       "</style>\n",
       "<table border=\"1\" class=\"dataframe\">\n",
       "  <thead>\n",
       "    <tr style=\"text-align: right;\">\n",
       "      <th></th>\n",
       "      <th>name</th>\n",
       "      <th>platform</th>\n",
       "      <th>year_of_release</th>\n",
       "      <th>genre</th>\n",
       "      <th>na_sales</th>\n",
       "      <th>eu_sales</th>\n",
       "      <th>jp_sales</th>\n",
       "      <th>other_sales</th>\n",
       "      <th>critic_score</th>\n",
       "      <th>user_score</th>\n",
       "      <th>rating</th>\n",
       "      <th>total_sales</th>\n",
       "      <th>ventas_totales</th>\n",
       "    </tr>\n",
       "  </thead>\n",
       "  <tbody>\n",
       "    <tr>\n",
       "      <th>10656</th>\n",
       "      <td>nbaballersrebound</td>\n",
       "      <td>PSP</td>\n",
       "      <td>2006</td>\n",
       "      <td>Sports</td>\n",
       "      <td>0.09</td>\n",
       "      <td>0.00</td>\n",
       "      <td>0.00</td>\n",
       "      <td>0.01</td>\n",
       "      <td>69</td>\n",
       "      <td>7</td>\n",
       "      <td>E</td>\n",
       "      <td>0.10</td>\n",
       "      <td>0.10</td>\n",
       "    </tr>\n",
       "    <tr>\n",
       "      <th>5553</th>\n",
       "      <td>onepieceromancedawnboukennoyoake</td>\n",
       "      <td>PSP</td>\n",
       "      <td>2012</td>\n",
       "      <td>Fighting</td>\n",
       "      <td>0.00</td>\n",
       "      <td>0.00</td>\n",
       "      <td>0.32</td>\n",
       "      <td>0.00</td>\n",
       "      <td>0</td>\n",
       "      <td>0</td>\n",
       "      <td>U</td>\n",
       "      <td>0.32</td>\n",
       "      <td>0.32</td>\n",
       "    </tr>\n",
       "    <tr>\n",
       "      <th>10421</th>\n",
       "      <td>gravitygamesbikestreetvertdirt</td>\n",
       "      <td>PS2</td>\n",
       "      <td>2002</td>\n",
       "      <td>Sports</td>\n",
       "      <td>0.05</td>\n",
       "      <td>0.04</td>\n",
       "      <td>0.00</td>\n",
       "      <td>0.01</td>\n",
       "      <td>24</td>\n",
       "      <td>4</td>\n",
       "      <td>T</td>\n",
       "      <td>0.10</td>\n",
       "      <td>0.10</td>\n",
       "    </tr>\n",
       "    <tr>\n",
       "      <th>3483</th>\n",
       "      <td>skateit</td>\n",
       "      <td>Wii</td>\n",
       "      <td>2008</td>\n",
       "      <td>Sports</td>\n",
       "      <td>0.50</td>\n",
       "      <td>0.03</td>\n",
       "      <td>0.00</td>\n",
       "      <td>0.04</td>\n",
       "      <td>70</td>\n",
       "      <td>8</td>\n",
       "      <td>E</td>\n",
       "      <td>0.57</td>\n",
       "      <td>0.57</td>\n",
       "    </tr>\n",
       "    <tr>\n",
       "      <th>3467</th>\n",
       "      <td>fifasoccer10</td>\n",
       "      <td>DS</td>\n",
       "      <td>2009</td>\n",
       "      <td>Sports</td>\n",
       "      <td>0.14</td>\n",
       "      <td>0.37</td>\n",
       "      <td>0.00</td>\n",
       "      <td>0.07</td>\n",
       "      <td>0</td>\n",
       "      <td>7</td>\n",
       "      <td>E</td>\n",
       "      <td>0.58</td>\n",
       "      <td>0.58</td>\n",
       "    </tr>\n",
       "  </tbody>\n",
       "</table>\n",
       "</div>"
      ],
      "text/plain": [
       "                                   name platform  year_of_release     genre  \\\n",
       "10656                 nbaballersrebound      PSP             2006    Sports   \n",
       "5553   onepieceromancedawnboukennoyoake      PSP             2012  Fighting   \n",
       "10421    gravitygamesbikestreetvertdirt      PS2             2002    Sports   \n",
       "3483                            skateit      Wii             2008    Sports   \n",
       "3467                       fifasoccer10       DS             2009    Sports   \n",
       "\n",
       "       na_sales  eu_sales  jp_sales  other_sales  critic_score  user_score  \\\n",
       "10656      0.09      0.00      0.00         0.01            69           7   \n",
       "5553       0.00      0.00      0.32         0.00             0           0   \n",
       "10421      0.05      0.04      0.00         0.01            24           4   \n",
       "3483       0.50      0.03      0.00         0.04            70           8   \n",
       "3467       0.14      0.37      0.00         0.07             0           7   \n",
       "\n",
       "      rating  total_sales  ventas_totales  \n",
       "10656      E         0.10            0.10  \n",
       "5553       U         0.32            0.32  \n",
       "10421      T         0.10            0.10  \n",
       "3483       E         0.57            0.57  \n",
       "3467       E         0.58            0.58  "
      ]
     },
     "execution_count": 145,
     "metadata": {},
     "output_type": "execute_result"
    }
   ],
   "source": [
    "datos_modelo = ice[(ice['year_of_release'] >= 2000) & (ice['year_of_release'] <= 2015)]\n",
    "datos_modelo.sample(5)"
   ]
  },
  {
   "cell_type": "markdown",
   "id": "484bb22d",
   "metadata": {},
   "source": [
    "Elegi datos relevantes para el modelo del año 2000 a 2015 ya que pueden tener mejor relacion para futuras predicicones al 2017, y podemos ya poner datos en mejor forma para vectores si es que quisieramos estimar predicciones usando un modelo matemático simple y no tan complejo basado en pendientes como regresiones lineales, para lo cual usariamos una libreria es decir, sklear.linear_model e importando para LinearRegression y despues contruir los vectores para poder maejar las operaciones con matrices."
   ]
  },
  {
   "cell_type": "code",
   "execution_count": null,
   "id": "a02b3f9f",
   "metadata": {},
   "outputs": [
    {
     "data": {
      "text/html": [
       "<div>\n",
       "<style scoped>\n",
       "    .dataframe tbody tr th:only-of-type {\n",
       "        vertical-align: middle;\n",
       "    }\n",
       "\n",
       "    .dataframe tbody tr th {\n",
       "        vertical-align: top;\n",
       "    }\n",
       "\n",
       "    .dataframe thead th {\n",
       "        text-align: right;\n",
       "    }\n",
       "</style>\n",
       "<table border=\"1\" class=\"dataframe\">\n",
       "  <thead>\n",
       "    <tr style=\"text-align: right;\">\n",
       "      <th></th>\n",
       "      <th>name</th>\n",
       "      <th>platform</th>\n",
       "      <th>year_of_release</th>\n",
       "      <th>genre</th>\n",
       "      <th>na_sales</th>\n",
       "      <th>eu_sales</th>\n",
       "      <th>jp_sales</th>\n",
       "      <th>other_sales</th>\n",
       "      <th>critic_score</th>\n",
       "      <th>user_score</th>\n",
       "      <th>rating</th>\n",
       "      <th>ventas_totales</th>\n",
       "    </tr>\n",
       "  </thead>\n",
       "  <tbody>\n",
       "    <tr>\n",
       "      <th>6771</th>\n",
       "      <td>jikkyoupowerfulproyakyuu2001</td>\n",
       "      <td>PS</td>\n",
       "      <td>2001</td>\n",
       "      <td>Sports</td>\n",
       "      <td>0.00</td>\n",
       "      <td>0.00</td>\n",
       "      <td>0.23</td>\n",
       "      <td>0.02</td>\n",
       "      <td>0</td>\n",
       "      <td>0</td>\n",
       "      <td>U</td>\n",
       "      <td>0.25</td>\n",
       "    </tr>\n",
       "    <tr>\n",
       "      <th>10039</th>\n",
       "      <td>heartcatchprecureosharecollection</td>\n",
       "      <td>DS</td>\n",
       "      <td>2010</td>\n",
       "      <td>Action</td>\n",
       "      <td>0.00</td>\n",
       "      <td>0.00</td>\n",
       "      <td>0.11</td>\n",
       "      <td>0.00</td>\n",
       "      <td>0</td>\n",
       "      <td>0</td>\n",
       "      <td>U</td>\n",
       "      <td>0.11</td>\n",
       "    </tr>\n",
       "    <tr>\n",
       "      <th>7286</th>\n",
       "      <td>afrika</td>\n",
       "      <td>PS3</td>\n",
       "      <td>2008</td>\n",
       "      <td>Adventure</td>\n",
       "      <td>0.12</td>\n",
       "      <td>0.00</td>\n",
       "      <td>0.08</td>\n",
       "      <td>0.01</td>\n",
       "      <td>63</td>\n",
       "      <td>6</td>\n",
       "      <td>E10+</td>\n",
       "      <td>0.21</td>\n",
       "    </tr>\n",
       "    <tr>\n",
       "      <th>8779</th>\n",
       "      <td>projectsylpheedarcofdeception</td>\n",
       "      <td>X360</td>\n",
       "      <td>2006</td>\n",
       "      <td>Shooter</td>\n",
       "      <td>0.12</td>\n",
       "      <td>0.01</td>\n",
       "      <td>0.02</td>\n",
       "      <td>0.01</td>\n",
       "      <td>64</td>\n",
       "      <td>8</td>\n",
       "      <td>T</td>\n",
       "      <td>0.16</td>\n",
       "    </tr>\n",
       "    <tr>\n",
       "      <th>2550</th>\n",
       "      <td>finalfantasyxiwingsofthegoddess</td>\n",
       "      <td>PS2</td>\n",
       "      <td>2007</td>\n",
       "      <td>Role-Playing</td>\n",
       "      <td>0.35</td>\n",
       "      <td>0.27</td>\n",
       "      <td>0.09</td>\n",
       "      <td>0.09</td>\n",
       "      <td>0</td>\n",
       "      <td>0</td>\n",
       "      <td>T</td>\n",
       "      <td>0.80</td>\n",
       "    </tr>\n",
       "  </tbody>\n",
       "</table>\n",
       "</div>"
      ],
      "text/plain": [
       "                                    name platform  year_of_release  \\\n",
       "6771        jikkyoupowerfulproyakyuu2001       PS             2001   \n",
       "10039  heartcatchprecureosharecollection       DS             2010   \n",
       "7286                              afrika      PS3             2008   \n",
       "8779       projectsylpheedarcofdeception     X360             2006   \n",
       "2550     finalfantasyxiwingsofthegoddess      PS2             2007   \n",
       "\n",
       "              genre  na_sales  eu_sales  jp_sales  other_sales  critic_score  \\\n",
       "6771         Sports      0.00      0.00      0.23         0.02             0   \n",
       "10039        Action      0.00      0.00      0.11         0.00             0   \n",
       "7286      Adventure      0.12      0.00      0.08         0.01            63   \n",
       "8779        Shooter      0.12      0.01      0.02         0.01            64   \n",
       "2550   Role-Playing      0.35      0.27      0.09         0.09             0   \n",
       "\n",
       "       user_score rating  ventas_totales  \n",
       "6771            0      U            0.25  \n",
       "10039           0      U            0.11  \n",
       "7286            6   E10+            0.21  \n",
       "8779            8      T            0.16  \n",
       "2550            0      T            0.80  "
      ]
     },
     "execution_count": 166,
     "metadata": {},
     "output_type": "execute_result"
    }
   ],
   "source": [
    "# Filtrar años representativos para entrenar modelo 2017\n",
    "datos_relevantes = ice[(ice['year_of_release'] >= 2000) & (ice['year_of_release'] <= 2015)]\n",
    "datos_relevantes.sample(5)"
   ]
  },
  {
   "cell_type": "markdown",
   "id": "5399d390",
   "metadata": {},
   "source": [
    "3.6 Crea un diagrama de caja para las ventas globales de todos los juegos, desglosados por plataforma. ¿Son significativas las diferencias en las ventas? ¿Qué sucede con las ventas promedio en varias plataformas? Describe tus hallazgos.\n"
   ]
  },
  {
   "cell_type": "code",
   "execution_count": 185,
   "id": "f5918ad9",
   "metadata": {},
   "outputs": [
    {
     "data": {
      "image/png": "[encoded data removed]",
      "text/plain": [
       "<Figure size 1200x600 with 1 Axes>"
      ]
     },
     "metadata": {},
     "output_type": "display_data"
    }
   ],
   "source": [
    "top_plataformas = ice.groupby('platform')['ventas_totales'].sum().sort_values(ascending=False).head(10).index\n",
    "datos_top = ice[ice['platform'].isin(top_plataformas)]\n",
    "\n",
    "# Diagrama de caja\n",
    "plt.figure(figsize=(12,6))\n",
    "sns.boxplot(x='platform', y='ventas_totales', data=datos_top)\n",
    "plt.ylim(0, 50)\n",
    "plt.title(\"Distribución de ventas globales por plataforma (Top 10)\")\n",
    "plt.xlabel(\"Plataforma\")\n",
    "plt.ylabel(\"Ventas totales por juego (millones)\")\n",
    "plt.show()"
   ]
  },
  {
   "cell_type": "markdown",
   "id": "3efe6c41",
   "metadata": {},
   "source": [
    "Tenemos demasiado valores atipicos, y una media no grande en diferentes plataformas por ejemplo PS4 tiene un comportamiento en Q mas regular y con valores atipicos agrupados"
   ]
  },
  {
   "cell_type": "markdown",
   "id": "3e41e377",
   "metadata": {},
   "source": [
    "3.7 Mira cómo las reseñas de usuarios y profesionales afectan las ventas de una plataforma popular (tu elección). Crea un gráfico de dispersión y calcula la correlación entre las reseñas y las ventas. Saca conclusiones.\n",
    "\n",
    "3.8 Teniendo en cuenta tus conclusiones compara las ventas de los mismos juegos en otras plataformas."
   ]
  },
  {
   "cell_type": "code",
   "execution_count": 186,
   "id": "e091482d",
   "metadata": {},
   "outputs": [
    {
     "data": {
      "image/png": "[encoded data removed]",
      "text/plain": [
       "<Figure size 1200x500 with 2 Axes>"
      ]
     },
     "metadata": {},
     "output_type": "display_data"
    },
    {
     "name": "stdout",
     "output_type": "stream",
     "text": [
      "Correlación ventas vs reseñas de usuarios: 0.11\n",
      "Correlación ventas vs reseñas de críticos: 0.23\n"
     ]
    }
   ],
   "source": [
    "#Ejemplo PS4\n",
    "ps4_data = ice[ice['platform'] == 'PS4']\n",
    "\n",
    "#Grafico de dispersión ventas vs reseñas:\n",
    "#usuarios\n",
    "plt.figure(figsize=(12,5))\n",
    "plt.subplot(1,2,1)\n",
    "sns.scatterplot(x='user_score', y='ventas_totales', data=ps4_data)\n",
    "plt.title(\"Ventas vs Reseñas de Usuarios (PS4)\")\n",
    "plt.xlabel(\"Puntuación de usuario\")\n",
    "plt.ylabel(\"Ventas totales por juego (millones)\")\n",
    "\n",
    "#criticos\n",
    "plt.subplot(1,2,2)\n",
    "sns.scatterplot(x='critic_score', y='ventas_totales', data=ps4_data)\n",
    "plt.title(\"Ventas vs Reseñas de Críticos (PS4)\")\n",
    "plt.xlabel(\"Puntuación de críticos\")\n",
    "plt.ylabel(\"Ventas totales por juego (millones)\")\n",
    "\n",
    "plt.tight_layout()\n",
    "plt.show()\n",
    "\n",
    "#correlación entre ventas y reseñas:\n",
    "corr_user = ps4_data['ventas_totales'].corr(ps4_data['user_score'])\n",
    "corr_critic = ps4_data['ventas_totales'].corr(ps4_data['critic_score'])\n",
    "print(f\"Correlación ventas vs reseñas de usuarios: {corr_user:.2f}\")\n",
    "print(f\"Correlación ventas vs reseñas de críticos: {corr_critic:.2f}\")"
   ]
  },
  {
   "cell_type": "markdown",
   "id": "cf367050",
   "metadata": {},
   "source": [
    "3.9 Echa un vistazo a la distribución general de los juegos por género. ¿Qué se puede decir de los géneros más rentables? ¿Puedes generalizar acerca de los géneros con ventas altas y bajas?\n"
   ]
  },
  {
   "cell_type": "code",
   "execution_count": 188,
   "id": "89938c6e",
   "metadata": {},
   "outputs": [
    {
     "data": {
      "image/png": "[encoded data removed]",
      "text/plain": [
       "<Figure size 1200x600 with 1 Axes>"
      ]
     },
     "metadata": {},
     "output_type": "display_data"
    }
   ],
   "source": [
    "ventas_genero = ice.groupby('genre')['ventas_totales'].mean().sort_values(ascending=False)\n",
    "\n",
    "plt.figure(figsize=(12,6))\n",
    "sns.barplot(x=ventas_genero.index, y=ventas_genero.values)\n",
    "plt.xticks(rotation=45)\n",
    "plt.title(\"Ventas promedio por juego según género\")\n",
    "plt.xlabel(\"Género\")\n",
    "plt.ylabel(\"Ventas promedio (millones)\")\n",
    "plt.show()\n"
   ]
  },
  {
   "cell_type": "code",
   "execution_count": 189,
   "id": "04bab82b",
   "metadata": {},
   "outputs": [
    {
     "data": {
      "image/png": "[encoded data removed]",
      "text/plain": [
       "<Figure size 1200x600 with 1 Axes>"
      ]
     },
     "metadata": {},
     "output_type": "display_data"
    }
   ],
   "source": [
    "genero_counts = ice['genre'].value_counts()\n",
    "\n",
    "plt.figure(figsize=(12,6))\n",
    "sns.barplot(x=genero_counts.index, y=genero_counts.values)\n",
    "plt.xticks(rotation=45)\n",
    "plt.title(\"Número de juegos por género\")\n",
    "plt.xlabel(\"Género\")\n",
    "plt.ylabel(\"Cantidad de juegos\")\n",
    "plt.show()\n"
   ]
  },
  {
   "cell_type": "markdown",
   "id": "da2df783",
   "metadata": {},
   "source": [
    "4. Crea un perfil de usuario para cada región\n"
   ]
  },
  {
   "cell_type": "markdown",
   "id": "b305c458",
   "metadata": {},
   "source": [
    "4.1 Para cada región (NA, UE, JP) determina:    "
   ]
  },
  {
   "cell_type": "markdown",
   "id": "b077284e",
   "metadata": {},
   "source": [
    "4.1.1  Las cicno plataformas principales. Describe las variaciones en sus costos de mercado de una región a otra"
   ]
  },
  {
   "cell_type": "code",
   "execution_count": 190,
   "id": "10571938",
   "metadata": {},
   "outputs": [
    {
     "name": "stdout",
     "output_type": "stream",
     "text": [
      "Top 5 plataformas NA:\n",
      " platform\n",
      "X360    602.47\n",
      "PS2     583.84\n",
      "Wii     496.90\n",
      "PS3     393.49\n",
      "DS      382.40\n",
      "Name: na_sales, dtype: float64\n",
      "\n",
      "Top 5 plataformas UE:\n",
      " platform\n",
      "PS2     339.29\n",
      "PS3     330.29\n",
      "X360    270.76\n",
      "Wii     262.21\n",
      "PS      213.61\n",
      "Name: eu_sales, dtype: float64\n",
      "\n",
      "Top 5 plataformas JP:\n",
      " platform\n",
      "DS      175.57\n",
      "PS      139.82\n",
      "PS2     139.20\n",
      "SNES    116.55\n",
      "3DS     100.67\n",
      "Name: jp_sales, dtype: float64\n"
     ]
    }
   ],
   "source": [
    "top_platforms_NA = ice.groupby('platform')['na_sales'].sum().sort_values(ascending=False).head(5)\n",
    "top_platforms_EU = ice.groupby('platform')['eu_sales'].sum().sort_values(ascending=False).head(5)\n",
    "top_platforms_JP = ice.groupby('platform')['jp_sales'].sum().sort_values(ascending=False).head(5)\n",
    "\n",
    "print(\"Top 5 plataformas NA:\\n\", top_platforms_NA)\n",
    "print(\"\\nTop 5 plataformas UE:\\n\", top_platforms_EU)\n",
    "print(\"\\nTop 5 plataformas JP:\\n\", top_platforms_JP)\n"
   ]
  },
  {
   "cell_type": "markdown",
   "id": "627bc1b6",
   "metadata": {},
   "source": [
    "4.1.2 Los cinco géneros principales. Explica la diferencia."
   ]
  },
  {
   "cell_type": "code",
   "execution_count": 191,
   "id": "d316b521",
   "metadata": {},
   "outputs": [
    {
     "name": "stdout",
     "output_type": "stream",
     "text": [
      "Top 5 géneros NA:\n",
      " genre\n",
      "Action      879.01\n",
      "Sports      684.43\n",
      "Shooter     592.24\n",
      "Platform    445.50\n",
      "Misc        407.27\n",
      "Name: na_sales, dtype: float64\n",
      "\n",
      "Top 5 géneros UE:\n",
      " genre\n",
      "Action     519.13\n",
      "Sports     376.79\n",
      "Shooter    317.34\n",
      "Racing     236.51\n",
      "Misc       212.74\n",
      "Name: eu_sales, dtype: float64\n",
      "\n",
      "Top 5 géneros JP:\n",
      " genre\n",
      "Role-Playing    355.41\n",
      "Action          161.43\n",
      "Sports          135.54\n",
      "Platform        130.83\n",
      "Misc            108.11\n",
      "Name: jp_sales, dtype: float64\n"
     ]
    }
   ],
   "source": [
    "top_genres_NA = ice.groupby('genre')['na_sales'].sum().sort_values(ascending=False).head(5)\n",
    "top_genres_EU = ice.groupby('genre')['eu_sales'].sum().sort_values(ascending=False).head(5)\n",
    "top_genres_JP = ice.groupby('genre')['jp_sales'].sum().sort_values(ascending=False).head(5)\n",
    "\n",
    "print(\"Top 5 géneros NA:\\n\", top_genres_NA)\n",
    "print(\"\\nTop 5 géneros UE:\\n\", top_genres_EU)\n",
    "print(\"\\nTop 5 géneros JP:\\n\", top_genres_JP)\n"
   ]
  },
  {
   "cell_type": "markdown",
   "id": "d2fe0bf4",
   "metadata": {},
   "source": [
    "4.1.3 Si las clasificaciones de ESRB afectan a las ventas en regiones individuales."
   ]
  },
  {
   "cell_type": "code",
   "execution_count": 195,
   "id": "4bb4754f",
   "metadata": {},
   "outputs": [
    {
     "name": "stdout",
     "output_type": "stream",
     "text": [
      "Ventas por clasificación ESRB:\n",
      "         na_sales  eu_sales  jp_sales\n",
      "rating                              \n",
      "E        1292.99    710.25    198.11\n",
      "U        1240.68    613.30    841.93\n",
      "T         759.75    427.03    151.40\n",
      "M         748.48    483.97     64.24\n",
      "E10+      353.32    188.52     40.20\n",
      "K-A         2.56      0.27      1.46\n",
      "EC          1.53      0.11      0.00\n",
      "AO          1.26      0.61      0.00\n",
      "RP          0.00      0.08      0.00\n"
     ]
    }
   ],
   "source": [
    "esrb_sales = ice.groupby('rating')[['na_sales','eu_sales','jp_sales']].sum().sort_values(by='na_sales', ascending=False)\n",
    "\n",
    "print(\"Ventas por clasificación ESRB:\\n\", esrb_sales)\n"
   ]
  },
  {
   "cell_type": "markdown",
   "id": "dc6d2609",
   "metadata": {},
   "source": [
    "5. Prueba las siguientes hipótesis"
   ]
  },
  {
   "cell_type": "markdown",
   "id": "34d7b023",
   "metadata": {},
   "source": [
    "5.1 — Las calificaciones promedio de los usuarios para las plataformas Xbox One y PC son las mismas."
   ]
  },
  {
   "cell_type": "code",
   "execution_count": 198,
   "id": "db6bce25",
   "metadata": {},
   "outputs": [
    {
     "name": "stdout",
     "output_type": "stream",
     "text": [
      "Media XOne: 4.502024291497976\n",
      "Media PC: 5.2217659137577\n",
      "valor-p: 0.0007016411543542438\n",
      "Rechazamos la hipótesis nula: las calificaciones promedio son diferentes.\n"
     ]
    }
   ],
   "source": [
    "xone_scores = ice.loc[ice['platform'] == 'XOne', 'user_score']\n",
    "pc_scores   = ice.loc[ice['platform'] == 'PC', 'user_score']\n",
    "\n",
    "print(\"Media XOne:\", xone_scores.mean())\n",
    "print(\"Media PC:\", pc_scores.mean())\n",
    "\n",
    "results = st.ttest_ind(xone_scores, pc_scores, equal_var=False)\n",
    "print(\"valor-p:\", results.pvalue)\n",
    "\n",
    "alpha = 0.5\n",
    "\n",
    "if results.pvalue < alpha:\n",
    "    print(\"Rechazamos la hipótesis nula: las calificaciones promedio son diferentes.\")\n",
    "else:\n",
    "    print(\"No podemos rechazar la hipótesis nula: no hay evidencia suficiente de diferencia.\")\n",
    "\n"
   ]
  },
  {
   "cell_type": "markdown",
   "id": "25525c4f",
   "metadata": {},
   "source": [
    "5.2 — Las calificaciones promedio de los usuarios para los géneros de Acción y Deportes son diferentes.\n"
   ]
  },
  {
   "cell_type": "code",
   "execution_count": 199,
   "id": "5a18354f",
   "metadata": {},
   "outputs": [
    {
     "name": "stdout",
     "output_type": "stream",
     "text": [
      "Media Acción: 3.593647966755714\n",
      "Media Deportes: 3.0545144804088586\n",
      "valor-p: 6.095719434232464e-09\n",
      "Rechazamos la hipótesis nula: las calificaciones promedio son diferentes.\n"
     ]
    }
   ],
   "source": [
    "accion_scores = ice.loc[ice['genre'] == 'Action', 'user_score']\n",
    "deportes_scores = ice.loc[ice['genre'] == 'Sports', 'user_score']\n",
    "\n",
    "print(\"Media Acción:\", accion_scores.mean())\n",
    "print(\"Media Deportes:\", deportes_scores.mean())\n",
    "\n",
    "alpha = 0.05\n",
    "\n",
    "results = st.ttest_ind(accion_scores, deportes_scores, equal_var=False)\n",
    "print(\"valor-p:\", results.pvalue)\n",
    "\n",
    "if results.pvalue < alpha:\n",
    "    print(\"Rechazamos la hipótesis nula: las calificaciones promedio son diferentes.\")\n",
    "else:\n",
    "    print(\"No podemos rechazar la hipótesis nula: no hay evidencia suficiente de diferencia.\")\n"
   ]
  },
  {
   "cell_type": "markdown",
   "id": "29822ca4",
   "metadata": {},
   "source": [
    "5.3 — Cómo formulaste las hipótesis nula y alternativa.\n",
    "\n",
    "Empezamos con una hipotesis nula H0, si no hay diferencia real entre las calificaciones promedio y la hipotesis alternativa H1 si es que hay una diferencia real entre las calificaiones promedio, elegi un nivel de confianza de 0.05, y en pocas palabras comparamos las calificaciones, suponemos que no hay diferencia y la prueba nos dice si podemos rechazar la suposicion o no\n"
   ]
  },
  {
   "cell_type": "markdown",
   "id": "eb9607da",
   "metadata": {},
   "source": [
    "5.4 — Qué criterio utilizaste para probar las hipótesis y por qué.\n",
    "\n",
    "Compare las calificaciones promedio de los dos grupos usando una pruab estadistica prueba t, y basicamente este criterio para poder ver si la diferencia observada es significativa o puede ser producto del azar"
   ]
  },
  {
   "cell_type": "markdown",
   "id": "4c52c4d3",
   "metadata": {},
   "source": [
    "6. Escribe una conclusión general:\n",
    "\n",
    " Primero el rellenar dtaos y poder estimar ciertos criterios es algo que debe llevar una estructuras ay que fue necesario el poder pensar el como podia manipular los datos que yo defina en un inicio para unas pruebas tanto para proyecciones usando capas o simplemente sumas estandar, el ver que representan los valores ausentes y que pueden significar para analisis futuros.\n",
    "\n",
    " Despues el ver con graficos y el ordenar lso datos para poder determinar mayores ventas, plataformas y generos, definir un rango en años y despue spoder clasificarlos por continentes , sin tomar en cuenta los otros , es decir solo los principales, por otro lado el quitar los valores de nombre y tratar de usar llaves unicas de concatenado no fue necesario ya que no se hizo ningun analisis por nombre sin emabrgo si es posible con esta estructura de datos \n",
    "\n",
    " Para la parte de genero y plataforma puedo definir como los 5 principales generos son Platform, Shooter, Role- Playing, Racing y Sports, lo que define los gustos de los ususarios, en la parte de nuemros Action, Sports, Misc, Role-Playing, Shooter, puedo definir cuales con juegos que mas crean por genero y buscar una relacion mayor cuadrando con ventas para poder realizar un analisis financiero, y combinado a una proyeccin con regresion linear puedo estimar las ventas a futuro para el 2017 y asi poder determinar mayores generos y mayor numeros de juegos a crear o las tendencias del mercado en ese año.\n",
    "\n",
    " Para las prubas de hipotesis al ser simples se hacen mediante pruebas estadisticas t, lo que representa muestras con relacion estadisitica o si son del azar ya que e sposible que los valores ausentes puedsan influir en estas pruebas.\n",
    "\n",
    " Ahora estas tendencias si cumplen un comportamiento que igual tiene bases fundamentales tanto el las reseñas de los usuarios como en las reseñas de datos criticos, esto determina que si influye en las venta de juegos.\n",
    "\n",
    " Así que esto solo arroja resultados de tendencia sin ningun estimado a futuro, lo que nos d auna idea de los videojuegos, plataforma, generos, y sobre todo el como inlfuyen las criticas escalados a las diferentes regiones del mundo.\n",
    "\n",
    "\n"
   ]
  },
  {
   "cell_type": "markdown",
   "id": "92e2d6d3",
   "metadata": {},
   "source": []
  }
 ],
 "metadata": {
  "kernelspec": {
   "display_name": "Python 3",
   "language": "python",
   "name": "python3"
  },
  "language_info": {
   "codemirror_mode": {
    "name": "ipython",
    "version": 3
   },
   "file_extension": ".py",
   "mimetype": "text/x-python",
   "name": "python",
   "nbconvert_exporter": "python",
   "pygments_lexer": "ipython3",
   "version": "3.11.9"
  }
 },
 "nbformat": 4,
 "nbformat_minor": 5
}
